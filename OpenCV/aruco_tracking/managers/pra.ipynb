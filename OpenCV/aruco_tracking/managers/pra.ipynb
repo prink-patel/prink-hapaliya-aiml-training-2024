{
 "cells": [
  {
   "cell_type": "code",
   "execution_count": 6,
   "metadata": {},
   "outputs": [
    {
     "name": "stdout",
     "output_type": "stream",
     "text": [
      "a   1\n",
      "b   2\n",
      "c   3\n",
      "d   4\n",
      "{'a': 1, 'b': 2, 'c': 3, 'd': 4}\n"
     ]
    }
   ],
   "source": [
    "myDict = {'a': 1, 'b': 2}\n",
    "new_data = {'c': 3, 'd': 4}\n",
    "\n",
    "myDict.update(new_data)\n",
    "\n",
    "for i,v in myDict.items():\n",
    "    print(i,\" \",v)\n",
    "\n",
    "print(myDict)"
   ]
  }
 ],
 "metadata": {
  "kernelspec": {
   "display_name": "base",
   "language": "python",
   "name": "python3"
  },
  "language_info": {
   "codemirror_mode": {
    "name": "ipython",
    "version": 3
   },
   "file_extension": ".py",
   "mimetype": "text/x-python",
   "name": "python",
   "nbconvert_exporter": "python",
   "pygments_lexer": "ipython3",
   "version": "3.8.8"
  }
 },
 "nbformat": 4,
 "nbformat_minor": 2
}
