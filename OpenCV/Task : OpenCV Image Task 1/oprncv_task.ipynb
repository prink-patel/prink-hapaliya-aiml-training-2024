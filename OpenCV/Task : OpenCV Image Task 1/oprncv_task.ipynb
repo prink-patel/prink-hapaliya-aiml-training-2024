{
 "cells": [
  {
   "cell_type": "code",
   "execution_count": 7,
   "metadata": {},
   "outputs": [],
   "source": [
    "import cv2\n",
    "import numpy as np"
   ]
  },
  {
   "cell_type": "code",
   "execution_count": null,
   "metadata": {},
   "outputs": [],
   "source": [
    "import os\n",
    "import time\n",
    "cap = cv2.VideoCapture(0)\n",
    "for imgnum in range(5):\n",
    "    print('Collecting image {}'.format(imgnum))\n",
    "    ret, frame = cap.read()\n",
    "    imgname = os.path.join(r'C:\\Users\\prink\\Desktop\\face\\data\\images',f'img{str(imgnum)}.jpg')\n",
    "    cv2.imwrite(imgname, frame)\n",
    "    cv2.imshow('frame', frame)\n",
    "    time.sleep(0.5)\n",
    "\n",
    "    if cv2.waitKey(1) & 0xFF == ord('q'):\n",
    "        break\n",
    "cap.release()\n",
    "cv2.destroyAllWindows()"
   ]
  },
  {
   "cell_type": "code",
   "execution_count": 9,
   "metadata": {},
   "outputs": [],
   "source": [
    "pts1=np.float32([[50,50],\n",
    "                [200,50],\n",
    "                [50,200]])\n",
    "pts2=np.float32([[10,100],\n",
    "                [200,50],\n",
    "                [100,250]])"
   ]
  },
  {
   "cell_type": "code",
   "execution_count": null,
   "metadata": {},
   "outputs": [],
   "source": [
    "img1=cv2.imread('img1.jpg')\n",
    "img2=cv2.imread('img2.jpg')\n",
    "img3=cv2.imread('img3.jpg')\n",
    "img4=cv2.imread('img4.jpg')\n",
    "img5=cv2.imread('img0.jpg')"
   ]
  },
  {
   "cell_type": "code",
   "execution_count": null,
   "metadata": {},
   "outputs": [],
   "source": [
    "rows,cols,ch=img1.shape\n",
    "#1\n",
    "m=cv2.getAffineTransform(pts1,pts2)\n",
    "transformation_img=cv2.warpAffine(img1,m,(cols,rows))\n",
    "transformation_img=cv2.resize(transformation_img,(350,300))\n",
    "\n",
    "#2\n",
    "quater_height,quater_width = rows/4,cols/4\n",
    "T = np.float32([[1,0,quater_width],[0,1,quater_height]])\n",
    "img_translation_right=cv2.warpAffine(img2,T,(cols,rows))\n",
    "img_translation_right=cv2.resize(img_translation_right,(350,300))\n",
    "\n",
    "#3\n",
    "rotation_matrix=cv2.getRotationMatrix2D((cols/2,rows/2),90,1)\n",
    "rotated_image=cv2.warpAffine(img3,rotation_matrix,(cols,rows))\n",
    "rotated_image=cv2.resize(rotated_image,(350,300))\n",
    "\n",
    "#4\n",
    "image_scaled=cv2.resize(img4,None,fx=0.75,fy=0.75)\n",
    "\n",
    "#5\n",
    "start_row,start_col=int(rows*.25),int(cols*.25)\n",
    "end_row,end_col=int(rows*.75),int(cols*.75)\n",
    "cropped=img5[start_row:end_row,start_col,end_col]\n",
    "cropped = cv2.resize(cropped,(350,300))\n",
    "\n",
    "in_v = cv2.hconcat([transformation_img,img_translation_right,rotated_image,image_scaled,cropped])\n",
    "\n",
    "cv2.inshow('sea_image.jpg',in_v)\n",
    "cv2.waitKey(0)\n",
    "cv2.destroyAllWindows()\n",
    "\n",
    "filename='savedimage.jpg'\n",
    "cv2.imwrite(filename,in_v)"
   ]
  }
 ],
 "metadata": {
  "language_info": {
   "name": "python"
  }
 },
 "nbformat": 4,
 "nbformat_minor": 2
}
