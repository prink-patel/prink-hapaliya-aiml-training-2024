{
 "cells": [
  {
   "cell_type": "code",
   "execution_count": 8,
   "metadata": {},
   "outputs": [
    {
     "name": "stdout",
     "output_type": "stream",
     "text": [
      "Select a ROI and then press SPACE or ENTER button!\n",
      "Cancel the selection process by pressing c button!\n",
      "(393, 138, 331, 452)\n"
     ]
    }
   ],
   "source": [
    "import cv2\n",
    "import numpy as np\n",
    "\n",
    "img_path=\"/home/wot-jay/Downloads/h.jpeg\"\n",
    "\n",
    "#read image\n",
    "img_raw = cv2.imread(img_path)\n",
    "\n",
    "#select ROI function\n",
    "roi = cv2.selectROI(img_raw)\n",
    "\n",
    "#print rectangle points of selected roi\n",
    "print(roi)\n",
    "\n",
    "#Crop selected roi from raw image\n",
    "roi_cropped = img_raw[int(roi[1]):int(roi[1]+roi[3]), int(roi[0]):int(roi[0]+roi[2])]\n",
    "\n",
    "#show cropped image\n",
    "cv2.imshow(\"ROI\", roi_cropped)\n",
    "\n",
    "cv2.imwrite(\"crop.jpeg\",roi_cropped)\n",
    "\n",
    "#hold window\n",
    "cv2.waitKey(0)"
   ]
  },
  {
   "cell_type": "code",
   "execution_count": 6,
   "metadata": {},
   "outputs": [],
   "source": [
    "point1 =  [\n",
    "        [\n",
    "          0.297,\n",
    "          0.366\n",
    "        ],\n",
    "        [\n",
    "          0.577,\n",
    "          0.654\n",
    "        ],\n",
    "        [\n",
    "          0.457,\n",
    "          0.9028888888888889\n",
    "        ],\n",
    "        [\n",
    "          0.189,\n",
    "          0.6326666666666667\n",
    "        ],\n",
    "        [\n",
    "          0.297,\n",
    "          0.3695555555555556\n",
    "        ]\n",
    "      ]\n",
    "\n",
    "\n",
    "points2 =[\n",
    "        [\n",
    "          0.307,\n",
    "          0.366\n",
    "        ],\n",
    "        [\n",
    "          0.455,\n",
    "          0.17755555555555555\n",
    "        ],\n",
    "        [\n",
    "          0.737,\n",
    "          0.398\n",
    "        ],\n",
    "        [\n",
    "          0.581,\n",
    "          0.6575555555555556\n",
    "        ]\n",
    "      ],\n"
   ]
  },
  {
   "cell_type": "code",
   "execution_count": 7,
   "metadata": {},
   "outputs": [
    {
     "data": {
      "text/plain": [
       "array([[297.        , 183.        ],\n",
       "       [577.        , 327.        ],\n",
       "       [457.        , 451.44444444],\n",
       "       [189.        , 316.33333333],\n",
       "       [297.        , 184.77777778]])"
      ]
     },
     "execution_count": 7,
     "metadata": {},
     "output_type": "execute_result"
    }
   ],
   "source": [
    "np.asarray(point1) * np.asarray([1000,500])"
   ]
  },
  {
   "cell_type": "code",
   "execution_count": 15,
   "metadata": {},
   "outputs": [],
   "source": [
    "import numpy as np\n",
    "import time\n",
    "import cv2\n",
    "\n",
    "\n",
    "ARUCO_DICT = {\n",
    "    \"DICT_4X4_50\": cv2.aruco.DICT_4X4_50,\n",
    "    \"DICT_4X4_100\": cv2.aruco.DICT_4X4_100,\n",
    "    \"DICT_4X4_250\": cv2.aruco.DICT_4X4_250,\n",
    "    \"DICT_4X4_1000\": cv2.aruco.DICT_4X4_1000,\n",
    "    \"DICT_5X5_50\": cv2.aruco.DICT_5X5_50,\n",
    "    \"DICT_5X5_100\": cv2.aruco.DICT_5X5_100,\n",
    "    \"DICT_5X5_250\": cv2.aruco.DICT_5X5_250,\n",
    "    \"DICT_5X5_1000\": cv2.aruco.DICT_5X5_1000,\n",
    "    \"DICT_6X6_50\": cv2.aruco.DICT_6X6_50,\n",
    "    \"DICT_6X6_100\": cv2.aruco.DICT_6X6_100,\n",
    "    \"DICT_6X6_250\": cv2.aruco.DICT_6X6_250,\n",
    "    \"DICT_6X6_1000\": cv2.aruco.DICT_6X6_1000,\n",
    "    \"DICT_7X7_50\": cv2.aruco.DICT_7X7_50,\n",
    "    \"DICT_7X7_100\": cv2.aruco.DICT_7X7_100,\n",
    "    \"DICT_7X7_250\": cv2.aruco.DICT_7X7_250,\n",
    "    \"DICT_7X7_1000\": cv2.aruco.DICT_7X7_1000,\n",
    "    \"DICT_ARUCO_ORIGINAL\": cv2.aruco.DICT_ARUCO_ORIGINAL,\n",
    "    \"DICT_APRILTAG_16h5\": cv2.aruco.DICT_APRILTAG_16h5,\n",
    "    \"DICT_APRILTAG_25h9\": cv2.aruco.DICT_APRILTAG_25h9,\n",
    "    \"DICT_APRILTAG_36h10\": cv2.aruco.DICT_APRILTAG_36h10,\n",
    "    \"DICT_APRILTAG_36h11\": cv2.aruco.DICT_APRILTAG_36h11,\n",
    "}\n",
    "\n",
    "\n",
    "def aruco_display(corners, ids, rejected, image):\n",
    "    if len(corners) > 0:\n",
    "\n",
    "        ids = ids.flatten()\n",
    "\n",
    "        for markerCorner, markerID in zip(corners, ids):\n",
    "\n",
    "            corners = markerCorner.reshape((4, 2))\n",
    "            (topLeft, topRight, bottomRight, bottomLeft) = corners\n",
    "\n",
    "            topRight = (int(topRight[0]), int(topRight[1]))\n",
    "            bottomRight = (int(bottomRight[0]), int(bottomRight[1]))\n",
    "            bottomLeft = (int(bottomLeft[0]), int(bottomLeft[1]))\n",
    "            topLeft = (int(topLeft[0]), int(topLeft[1]))\n",
    "\n",
    "            cv2.line(image, topLeft, topRight, (0, 255, 0), 2)\n",
    "            cv2.line(image, topRight, bottomRight, (0, 255, 0), 2)\n",
    "            cv2.line(image, bottomRight, bottomLeft, (0, 255, 0), 2)\n",
    "            cv2.line(image, bottomLeft, topLeft, (0, 255, 0), 2)\n",
    "\n",
    "            cX = int((topLeft[0] + bottomRight[0]) / 2.0)\n",
    "            cY = int((topLeft[1] + bottomRight[1]) / 2.0)\n",
    "            cv2.circle(image, (cX, cY), 4, (0, 0, 255), -1)\n",
    "\n",
    "            cv2.putText(\n",
    "                image,\n",
    "                str(markerID),\n",
    "                (topLeft[0], topLeft[1] - 10),\n",
    "                cv2.FONT_HERSHEY_SIMPLEX,\n",
    "                0.5,\n",
    "                (0, 255, 0),\n",
    "                2,\n",
    "            )\n",
    "            print(\"[Inference] ArUco marker ID: {}\".format(markerID))\n",
    "\n",
    "    return image\n",
    "\n",
    "aruco_type = \"DICT_5X5_100\"\n",
    "dictionary = cv2.aruco.getPredefinedDictionary(ARUCO_DICT[aruco_type])\n",
    "parameters =  cv2.aruco.DetectorParameters()\n",
    "detector = cv2.aruco.ArucoDetector(dictionary, parameters)\n",
    "\n"
   ]
  },
  {
   "cell_type": "code",
   "execution_count": 17,
   "metadata": {},
   "outputs": [
    {
     "name": "stdout",
     "output_type": "stream",
     "text": [
      "1080 960\n"
     ]
    },
    {
     "ename": "error",
     "evalue": "OpenCV(4.9.0) :-1: error: (-5:Bad argument) in function 'detectMarkers'\n> Overload resolution failed:\n>  - detectMarkers() missing required argument 'dictionary' (pos 2)\n>  - detectMarkers() missing required argument 'dictionary' (pos 2)\n",
     "output_type": "error",
     "traceback": [
      "\u001b[0;31m---------------------------------------------------------------------------\u001b[0m",
      "\u001b[0;31merror\u001b[0m                                     Traceback (most recent call last)",
      "Cell \u001b[0;32mIn[17], line 15\u001b[0m\n\u001b[1;32m     13\u001b[0m height,width \u001b[38;5;241m=\u001b[39m frame\u001b[38;5;241m.\u001b[39mshape[:\u001b[38;5;241m2\u001b[39m]\n\u001b[1;32m     14\u001b[0m \u001b[38;5;28mprint\u001b[39m(height,width)\n\u001b[0;32m---> 15\u001b[0m corners, ids, rejected \u001b[38;5;241m=\u001b[39m \u001b[43mcv2\u001b[49m\u001b[38;5;241;43m.\u001b[39;49m\u001b[43maruco\u001b[49m\u001b[38;5;241;43m.\u001b[39;49m\u001b[43mdetectMarkers\u001b[49m\u001b[43m(\u001b[49m\u001b[43mframe\u001b[49m\u001b[43m)\u001b[49m\n\u001b[1;32m     16\u001b[0m detected_markers \u001b[38;5;241m=\u001b[39m aruco_display(corners, ids, rejected, frame)\n\u001b[1;32m     17\u001b[0m cv2\u001b[38;5;241m.\u001b[39mimshow(\u001b[38;5;124m\"\u001b[39m\u001b[38;5;124mImage\u001b[39m\u001b[38;5;124m\"\u001b[39m, detected_markers)\n",
      "\u001b[0;31merror\u001b[0m: OpenCV(4.9.0) :-1: error: (-5:Bad argument) in function 'detectMarkers'\n> Overload resolution failed:\n>  - detectMarkers() missing required argument 'dictionary' (pos 2)\n>  - detectMarkers() missing required argument 'dictionary' (pos 2)\n"
     ]
    }
   ],
   "source": [
    "import cv2\n",
    "import numpy as np\n",
    "\n",
    "cap = cv2.VideoCapture(\"/home/wot-jay/Downloads/video1.avi\")\n",
    "\n",
    "import numpy as np\n",
    "import cv2\n",
    "\n",
    "cap = cv2.VideoCapture(\"/home/wot-jay/Downloads/video1.avi\")\n",
    "\n",
    "while(cap.isOpened()):\n",
    "  ret, frame = cap.read()\n",
    "  height,width = frame.shape[:2]\n",
    "  print(height,width)\n",
    "  corners, ids, rejected = cv2.aruco.detectMarkers(frame)\n",
    "  detected_markers = aruco_display(corners, ids, rejected, frame)\n",
    "  cv2.imshow(\"Image\", detected_markers)\n",
    "\n",
    "  cv2.imshow('frame',frame)\n",
    "  if cv2.waitKey(30) & 0xFF == ord('q'):\n",
    "    break\n",
    "\n",
    "cap.release()\n",
    "cv2.destroyAllWindows()\n",
    "        "
   ]
  },
  {
   "cell_type": "code",
   "execution_count": 10,
   "metadata": {},
   "outputs": [
    {
     "data": {
      "text/plain": [
       "array([[320.76      , 351.36      ],\n",
       "       [623.16      , 627.84      ],\n",
       "       [493.56      , 866.77333333],\n",
       "       [204.12      , 607.36      ],\n",
       "       [320.76      , 354.77333333]])"
      ]
     },
     "execution_count": 10,
     "metadata": {},
     "output_type": "execute_result"
    }
   ],
   "source": [
    "rois"
   ]
  },
  {
   "cell_type": "code",
   "execution_count": 40,
   "metadata": {},
   "outputs": [],
   "source": [
    "import json\n",
    "f = open('data.json')\n",
    "data = json.load(f)"
   ]
  },
  {
   "cell_type": "code",
   "execution_count": 41,
   "metadata": {},
   "outputs": [],
   "source": [
    "video_list = {\n",
    "    \"video1\" :{\"url\" : \"/home/wot-jay/Desktop/Training/daily_task/OpenCV/aruco_tracking/video1.avi\", \"rois\":None},\n",
    "    \"video2\" :{\"url\" : \"/home/wot-jay/Desktop/Training/daily_task/OpenCV/aruco_tracking/video2.mp4\",\"rois\":None}\n",
    "}\n",
    "# roi_data=[]\n",
    "# for i in range(len(data)):\n",
    "    \n",
    "for i,video in enumerate(video_list):\n",
    "    video_list[video][\"rois\"] = data[i][\"rois\"]"
   ]
  },
  {
   "cell_type": "code",
   "execution_count": 39,
   "metadata": {},
   "outputs": [
    {
     "data": {
      "text/plain": [
       "{'video1': {'url': '/home/wot-jay/Desktop/Training/daily_task/OpenCV/aruco_tracking/video1.avi',\n",
       "  'rois': [{'points': [[0.297, 0.366],\n",
       "     [0.577, 0.654],\n",
       "     [0.457, 0.9028888888888889],\n",
       "     [0.189, 0.6326666666666667],\n",
       "     [0.297, 0.3695555555555556]],\n",
       "    'roi_name': '1'},\n",
       "   {'points': [[0.307, 0.366],\n",
       "     [0.455, 0.17755555555555555],\n",
       "     [0.737, 0.398],\n",
       "     [0.581, 0.6575555555555556]],\n",
       "    'roi_name': '2'}]},\n",
       " 'video2': {'url': '/home/wot-jay/Desktop/Training/daily_task/OpenCV/aruco_tracking/video2.mp4',\n",
       "  'rois': [{'points': [[0.323, 0.5171666666666667],\n",
       "     [0.545, 0.6718333333333333],\n",
       "     [0.469, 0.8878333333333334],\n",
       "     [0.263, 0.7251666666666666],\n",
       "     [0.321, 0.5145]],\n",
       "    'roi_name': '1'},\n",
       "   {'points': [[0.329, 0.5145],\n",
       "     [0.439, 0.35183333333333333],\n",
       "     [0.663, 0.4585],\n",
       "     [0.549, 0.6638333333333334],\n",
       "     [0.329, 0.5171666666666667]],\n",
       "    'roi_name': '2'}]}}"
      ]
     },
     "execution_count": 39,
     "metadata": {},
     "output_type": "execute_result"
    }
   ],
   "source": [
    "video_list"
   ]
  },
  {
   "cell_type": "code",
   "execution_count": 1,
   "metadata": {},
   "outputs": [
    {
     "name": "stdout",
     "output_type": "stream",
     "text": [
      "{'video1': {'url': '/home/wot-jay/Desktop/Training/daily_task/OpenCV/aruco_tracking/video1.avi', 'rois': [{'points': [[0.297, 0.366], [0.577, 0.654], [0.457, 0.9028888888888889], [0.189, 0.6326666666666667], [0.297, 0.3695555555555556]], 'roi_name': '1'}, {'points': [[0.307, 0.366], [0.455, 0.17755555555555555], [0.737, 0.398], [0.581, 0.6575555555555556]], 'roi_name': '2'}]}, 'video2': {'url': '/home/wot-jay/Desktop/Training/daily_task/OpenCV/aruco_tracking/video2.mp4', 'rois': [{'points': [[0.323, 0.5171666666666667], [0.545, 0.6718333333333333], [0.469, 0.8878333333333334], [0.263, 0.7251666666666666], [0.321, 0.5145]], 'roi_name': '1'}, {'points': [[0.329, 0.5145], [0.439, 0.35183333333333333], [0.663, 0.4585], [0.549, 0.6638333333333334], [0.329, 0.5171666666666667]], 'roi_name': '2'}]}}\n"
     ]
    }
   ],
   "source": [
    "from constants import *\n",
    "print(video_list)"
   ]
  },
  {
   "cell_type": "code",
   "execution_count": null,
   "metadata": {},
   "outputs": [],
   "source": []
  },
  {
   "cell_type": "code",
   "execution_count": null,
   "metadata": {},
   "outputs": [],
   "source": []
  },
  {
   "cell_type": "code",
   "execution_count": 6,
   "metadata": {},
   "outputs": [],
   "source": [
    "# # Shapely polygon drawing on cv2 image\n",
    "\n",
    "# import cv2\n",
    "# import numpy as np\n",
    "# import time\n",
    "# from shapely.geometry import Point, LineString, Polygon\n",
    "# col_img = cv2.imread('media/colourful.jpg')\n",
    "# poly1 = Polygon([[100,100], [100,200], [200,200], [200,100]])\n",
    "\n",
    "\n",
    "# point = Point([150,155])\n",
    "# print(poly1.contains(point))\n",
    "# # poly1.boundary\n",
    "# # print(poly1)\n",
    "# coords = np.array([[*poly1.exterior.coords]]).astype(\"int64\")\n",
    "\n",
    "# c = np.array([[[100,100], [100,200], [200,200], [200,100]]])\n",
    "\n",
    "# cv2.drawContours(col_img, coords, -1, (0,0,0), -1)\n",
    "# cv2.imshow(\"display\", col_img)\n",
    "# cv2.waitKey(0)\n",
    "# cv2.destroyAllWindows()\n",
    "\n",
    "\n",
    "\n",
    "\n",
    "\n",
    "# aruco detection in video\n",
    "import numpy as np\n",
    "import cv2\n",
    "from cv2 import aruco\n",
    "\n",
    "link = \"/home/wot-jay/Desktop/Training/daily_task/OpenCV/aruco_tracking/video1.avi\"\n",
    "video = cv2.VideoCapture(link)\n",
    "fps = video.get(cv2.CAP_PROP_FPS)\n",
    "dictionary = cv2.aruco.getPredefinedDictionary(cv2.aruco.DICT_7X7_1000)\n",
    "parameters =  cv2.aruco.DetectorParameters()\n",
    "detector = cv2.aruco.ArucoDetector(dictionary, parameters)\n",
    "\n",
    "while True:\n",
    "    stat, frame = video.read()\n",
    "    if stat:\n",
    "        gray = cv2.cvtColor(frame, cv2.COLOR_BGR2GRAY)\n",
    "        corners, ids, rejectedImgPoints = detector.detectMarkers(gray)\n",
    "        frame_markers = aruco.drawDetectedMarkers(frame.copy(), corners, ids)\n",
    "        frame = cv2.resize(frame_markers,(0,0), fx=0.5, fy=0.5)\n",
    "        pass\n",
    "    else:\n",
    "        break\n",
    "    \n",
    "    cv2.imshow(\"Win\", frame)\n",
    "    keyCode = cv2.waitKey(int(1000/fps))\n",
    "    if keyCode & 0xFF == ord(\"q\"):\n",
    "        break\n",
    "cv2.destroyAllWindows()\n"
   ]
  },
  {
   "cell_type": "code",
   "execution_count": 3,
   "metadata": {},
   "outputs": [
    {
     "name": "stdout",
     "output_type": "stream",
     "text": [
      "Collecting shapely\n",
      "  Downloading shapely-2.0.3-cp38-cp38-manylinux_2_17_x86_64.manylinux2014_x86_64.whl (2.5 MB)\n",
      "\u001b[K     |████████████████████████████████| 2.5 MB 4.8 MB/s eta 0:00:01\n",
      "\u001b[?25hRequirement already satisfied: numpy<2,>=1.14 in /home/wot-jay/.local/lib/python3.8/site-packages (from shapely) (1.22.4)\n",
      "Installing collected packages: shapely\n",
      "Successfully installed shapely-2.0.3\n"
     ]
    }
   ],
   "source": [
    "!pip install shapely"
   ]
  },
  {
   "cell_type": "code",
   "execution_count": 7,
   "metadata": {},
   "outputs": [
    {
     "name": "stdout",
     "output_type": "stream",
     "text": [
      "1080.0\n",
      "960.0\n"
     ]
    }
   ],
   "source": [
    "# ROIS\n",
    "rois = [\n",
    "    {\n",
    "      \"points\": [\n",
    "        [\n",
    "          0.297,\n",
    "          0.366\n",
    "        ],\n",
    "        [\n",
    "          0.577,\n",
    "          0.654\n",
    "        ],\n",
    "        [\n",
    "          0.457,\n",
    "          0.9028888888888889\n",
    "        ],\n",
    "        [\n",
    "          0.189,\n",
    "          0.6326666666666667\n",
    "        ],\n",
    "        [\n",
    "          0.297,\n",
    "          0.3695555555555556\n",
    "        ]\n",
    "      ],\n",
    "      \"roi_name\": \"1\"\n",
    "    },\n",
    "    {\n",
    "      \"points\": [\n",
    "        [\n",
    "          0.307,\n",
    "          0.366\n",
    "        ],\n",
    "        [\n",
    "          0.455,\n",
    "          0.17755555555555555\n",
    "        ],\n",
    "        [\n",
    "          0.737,\n",
    "          0.398\n",
    "        ],\n",
    "        [\n",
    "          0.581,\n",
    "          0.6575555555555556\n",
    "        ]\n",
    "      ],\n",
    "      \"roi_name\": \"2\"\n",
    "    }\n",
    "  ]\n",
    "\n",
    "\n",
    "# aruco detection in video\n",
    "roi_1 = rois[0][\"points\"]\n",
    "roi_2 = rois[1][\"points\"]\n",
    "import numpy as np\n",
    "import cv2\n",
    "from cv2 import aruco\n",
    "from shapely.geometry import Point, LineString, Polygon\n",
    "\n",
    "link = \"/home/wot-jay/Desktop/Training/daily_task/OpenCV/aruco_tracking/video1.avi\"\n",
    "video = cv2.VideoCapture(link)\n",
    "fps = video.get(cv2.CAP_PROP_FPS)\n",
    "video_width = video.get(cv2.CAP_PROP_FRAME_WIDTH)\n",
    "video_height = video.get(cv2.CAP_PROP_FRAME_HEIGHT)\n",
    "print(video_height)\n",
    "print(video_width)\n",
    "\n",
    "dictionary = cv2.aruco.getPredefinedDictionary(cv2.aruco.DICT_7X7_1000)\n",
    "parameters =  cv2.aruco.DetectorParameters()\n",
    "detector = cv2.aruco.ArucoDetector(dictionary, parameters)\n",
    "\n",
    "# DE-normalizing the ROIs\n",
    "roi_1 = (roi_1 * np.array([video_height, video_width])).astype(\"int64\")\n",
    "roi_2 = (roi_2 * np.array([video_height, video_width])).astype(\"int64\")\n",
    "roi_1 = Polygon(roi_1)\n",
    "roi_2 = Polygon(roi_2)\n",
    "coords1 = np.array([[*roi_1.exterior.coords]]).astype(\"int64\")\n",
    "coords2 = np.array([[*roi_2.exterior.coords]]).astype(\"int64\")\n",
    "in_counts = 0\n",
    "while True:\n",
    "    stat, frame = video.read()\n",
    "    if stat:\n",
    "        \n",
    "        gray = cv2.cvtColor(frame, cv2.COLOR_BGR2GRAY)\n",
    "        corners, ids, rejectedImgPoints = detector.detectMarkers(gray)\n",
    "        frame = cv2.polylines(frame, coords1, isClosed=True, color=[255,0,0], thickness=5)\n",
    "        frame = cv2.polylines(frame, coords2, isClosed=True, color=[255,0,0], thickness=5)\n",
    "\n",
    "        for c in corners:\n",
    "            # cent = [int(c[:,1].mean()) , int(c[:,0].mean())]\n",
    "            # print(cent)\n",
    "            c = c.astype(\"int64\")\n",
    "            # frame = cv2.circle(frame, c, radius=5, color=(0, 0, 255), thickness=-1)\n",
    "            frame = cv2.polylines(frame, c, isClosed=True, color=[0,255,0], thickness=5)\n",
    "\n",
    "        # frame_markers = aruco.drawDetectedMarkers(frame.copy(), corners, ids)\n",
    "        frame = cv2.resize(frame,(0,0), fx=0.5, fy=0.5)\n",
    "        pass\n",
    "    else:\n",
    "        break\n",
    "    \n",
    "    cv2.imshow(\"first\", frame)\n",
    "    keyCode = cv2.waitKey(int(1000/fps))\n",
    "    if keyCode & 0xFF == ord(\"q\"):\n",
    "        break\n",
    "cv2.destroyAllWindows()\n"
   ]
  },
  {
   "cell_type": "code",
   "execution_count": null,
   "metadata": {},
   "outputs": [],
   "source": []
  }
 ],
 "metadata": {
  "kernelspec": {
   "display_name": "Python 3",
   "language": "python",
   "name": "python3"
  },
  "language_info": {
   "codemirror_mode": {
    "name": "ipython",
    "version": 3
   },
   "file_extension": ".py",
   "mimetype": "text/x-python",
   "name": "python",
   "nbconvert_exporter": "python",
   "pygments_lexer": "ipython3",
   "version": "3.8.10"
  }
 },
 "nbformat": 4,
 "nbformat_minor": 2
}
