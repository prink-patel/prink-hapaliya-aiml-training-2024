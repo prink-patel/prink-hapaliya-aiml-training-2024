{
 "cells": [
  {
   "cell_type": "code",
   "execution_count": 97,
   "metadata": {},
   "outputs": [],
   "source": [
    "import time\n"
   ]
  },
  {
   "cell_type": "code",
   "execution_count": 98,
   "metadata": {},
   "outputs": [],
   "source": [
    "# Implement a queue data structure to store random data.\n",
    "q=[]\n",
    "def Enqueue(add_number):\n",
    "    q.append(add_number)\n",
    "    time.sleep(add_number)\n",
    "    print(add_number,\"is added to the Queue!\")\n",
    "def dequeue():\n",
    "    if not q:# or if len(stack)==0\n",
    "        time.sleep(3)\n",
    "    else:\n",
    "        e=q.pop(0)\n",
    "        print(\"element removed!!:\",e)\n",
    "        time.sleep(e)\n",
    "\n",
    "# def display():\n",
    "#     print(q)\n",
    "#     size=int(input(\"Enter the size of Queue:\"))\n",
    "#     while True:\n",
    "#         print(\"Select the Operation:1.Add 2.Delete 3. Display 4. Quit\")\n",
    "#         choice=int(input())\n",
    "#         if choice==1:\n",
    "#             Enqueue()\n",
    "#         elif choice==2:\n",
    "#             dequeue()\n",
    "#         elif choice==3:\n",
    "#             display()\n",
    "#         elif choice==4:\n",
    "#             break\n",
    "#         else:\n",
    "#             print(\"Invalid Option!!!\")\n"
   ]
  },
  {
   "cell_type": "code",
   "execution_count": 99,
   "metadata": {},
   "outputs": [],
   "source": [
    "import random\n",
    "\n",
    "\n",
    "def random_number():\n",
    "    while True:\n",
    "        number = random.randrange(9)\n",
    "        Enqueue(number)\n",
    "        time.sleep(5)\n",
    "        # dequeue()\n",
    "        print(number)\n"
   ]
  },
  {
   "cell_type": "code",
   "execution_count": 100,
   "metadata": {},
   "outputs": [
    {
     "name": "stdout",
     "output_type": "stream",
     "text": [
      "4 is added to the Queue!\n",
      "4\n",
      "2 is added to the Queue!\n",
      "2\n",
      "2 is added to the Queue!\n",
      "2\n",
      "5 is added to the Queue!\n",
      "5\n",
      "7 is added to the Queue!\n",
      "7\n"
     ]
    },
    {
     "ename": "KeyboardInterrupt",
     "evalue": "",
     "output_type": "error",
     "traceback": [
      "\u001b[0;31m---------------------------------------------------------------------------\u001b[0m",
      "\u001b[0;31mKeyboardInterrupt\u001b[0m                         Traceback (most recent call last)",
      "Cell \u001b[0;32mIn[100], line 1\u001b[0m\n\u001b[0;32m----> 1\u001b[0m \u001b[43mrandom_number\u001b[49m\u001b[43m(\u001b[49m\u001b[43m)\u001b[49m\n",
      "Cell \u001b[0;32mIn[99], line 7\u001b[0m, in \u001b[0;36mrandom_number\u001b[0;34m()\u001b[0m\n\u001b[1;32m      5\u001b[0m \u001b[38;5;28;01mwhile\u001b[39;00m \u001b[38;5;28;01mTrue\u001b[39;00m:\n\u001b[1;32m      6\u001b[0m     number \u001b[38;5;241m=\u001b[39m random\u001b[38;5;241m.\u001b[39mrandrange(\u001b[38;5;241m9\u001b[39m)\n\u001b[0;32m----> 7\u001b[0m     \u001b[43mEnqueue\u001b[49m\u001b[43m(\u001b[49m\u001b[43mnumber\u001b[49m\u001b[43m)\u001b[49m\n\u001b[1;32m      8\u001b[0m     time\u001b[38;5;241m.\u001b[39msleep(\u001b[38;5;241m5\u001b[39m)\n\u001b[1;32m      9\u001b[0m     \u001b[38;5;66;03m# dequeue()\u001b[39;00m\n",
      "Cell \u001b[0;32mIn[98], line 5\u001b[0m, in \u001b[0;36mEnqueue\u001b[0;34m(add_number)\u001b[0m\n\u001b[1;32m      3\u001b[0m \u001b[38;5;28;01mdef\u001b[39;00m \u001b[38;5;21mEnqueue\u001b[39m(add_number):\n\u001b[1;32m      4\u001b[0m     q\u001b[38;5;241m.\u001b[39mappend(add_number)\n\u001b[0;32m----> 5\u001b[0m     \u001b[43mtime\u001b[49m\u001b[38;5;241;43m.\u001b[39;49m\u001b[43msleep\u001b[49m\u001b[43m(\u001b[49m\u001b[43madd_number\u001b[49m\u001b[43m)\u001b[49m\n\u001b[1;32m      6\u001b[0m     \u001b[38;5;28mprint\u001b[39m(add_number,\u001b[38;5;124m\"\u001b[39m\u001b[38;5;124mis added to the Queue!\u001b[39m\u001b[38;5;124m\"\u001b[39m)\n",
      "\u001b[0;31mKeyboardInterrupt\u001b[0m: "
     ]
    }
   ],
   "source": [
    "random_number()"
   ]
  }
 ],
 "metadata": {
  "kernelspec": {
   "display_name": "base",
   "language": "python",
   "name": "python3"
  },
  "language_info": {
   "codemirror_mode": {
    "name": "ipython",
    "version": 3
   },
   "file_extension": ".py",
   "mimetype": "text/x-python",
   "name": "python",
   "nbconvert_exporter": "python",
   "pygments_lexer": "ipython3",
   "version": "3.8.8"
  }
 },
 "nbformat": 4,
 "nbformat_minor": 2
}
