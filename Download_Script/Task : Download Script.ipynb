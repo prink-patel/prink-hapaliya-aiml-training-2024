{
 "cells": [
  {
   "cell_type": "code",
   "execution_count": 10,
   "metadata": {},
   "outputs": [
    {
     "name": "stderr",
     "output_type": "stream",
     "text": [
      "Downloading...\n",
      "From: https://drive.google.com/uc?id=1Aeh4GIjLwyiuWGd6AGxM8Q3WgiffLfIu\n",
      "To: /home/wot-prink/Documents/demo/Download_Script/projects\n",
      "100%|██████████| 100k/100k [00:00<00:00, 401kB/s]\n"
     ]
    },
    {
     "data": {
      "text/plain": [
       "'/home/wot-prink/Documents/demo/Download_Script/projects'"
      ]
     },
     "execution_count": 10,
     "metadata": {},
     "output_type": "execute_result"
    }
   ],
   "source": [
    "import gdown\n",
    "\n",
    "# a file\n",
    "url = \"https://drive.google.com/file/d/1Aeh4GIjLwyiuWGd6AGxM8Q3WgiffLfIu/view?usp=sharing\"\n",
    "output = \"/home/wot-prink/Documents/demo/Download_Script/projects\"\n",
    "gdown.download(url, output,quiet=False, fuzzy=True)"
   ]
  },
  {
   "cell_type": "code",
   "execution_count": 11,
   "metadata": {},
   "outputs": [],
   "source": [
    "from zipfile import ZipFile\n",
    "\n",
    "with ZipFile('/home/wot-prink/Documents/demo/Download_Script/projects', 'r') as f:\n",
    "#extract in current directory\n",
    "    f.extractall()"
   ]
  },
  {
   "cell_type": "code",
   "execution_count": 12,
   "metadata": {},
   "outputs": [],
   "source": [
    "import os\n",
    "path =\"Exam\"\n",
    "def file_hier(path):\n",
    "    if os.listdir(path) is None:\n",
    "        return\n",
    "\n",
    "    for item in os.listdir(path):\n",
    "        item_path = os.path.join(path, item)\n",
    "        if os.path.isfile(item_path):\n",
    "            with open(\"/home/wot-prink/Documents/demo/Download_Script/file_hierarchy.txt\", \"a\") as file_:\n",
    "                file_.write(f\"{os.path.join(path, item)}\\n\")\n",
    "        else:\n",
    "            file_hier(item_path)\n",
    "\n",
    "file_hier(path)"
   ]
  },
  {
   "cell_type": "code",
   "execution_count": 13,
   "metadata": {},
   "outputs": [],
   "source": [
    "import pandas as pd"
   ]
  },
  {
   "cell_type": "code",
   "execution_count": 14,
   "metadata": {},
   "outputs": [
    {
     "data": {
      "text/plain": [
       "'Pauline Aleman'"
      ]
     },
     "execution_count": 14,
     "metadata": {},
     "output_type": "execute_result"
    }
   ],
   "source": [
    "import names\n",
    "import random\n",
    "def name_fun_rend():\n",
    "    list=[]\n",
    "    for i in range(1):\n",
    "        list.append(names.get_full_name())\n",
    "    return ''.join(random.choice(list))\n",
    "name_fun_rend()"
   ]
  },
  {
   "cell_type": "code",
   "execution_count": 15,
   "metadata": {},
   "outputs": [],
   "source": [
    "import os\n",
    "path =\"Exam\"\n",
    "def file_name(path):\n",
    "    if os.listdir(path) is None:\n",
    "        return\n",
    "\n",
    "    for item in os.listdir(path):\n",
    "        item_path = os.path.join(path, item)\n",
    "        if os.path.isfile(item_path):\n",
    "            with open(item_path, \"a\") as file_:\n",
    "                file_.write(name_fun_rend())\n",
    "        else:\n",
    "            file_name(item_path)\n",
    "\n",
    "file_name(path)"
   ]
  },
  {
   "cell_type": "code",
   "execution_count": 16,
   "metadata": {},
   "outputs": [],
   "source": [
    "dir=\"output\"\n",
    "os.makedirs(dir)"
   ]
  },
  {
   "cell_type": "code",
   "execution_count": 17,
   "metadata": {},
   "outputs": [],
   "source": [
    "from shutil import copy\n",
    "import os\n",
    "path =\"Exam\"\n",
    "def file_name(path):\n",
    "    if os.listdir(path) is None:\n",
    "        return\n",
    "\n",
    "    for item in os.listdir(path):\n",
    "        item_path = os.path.join(path, item)\n",
    "        if os.path.isfile(item_path):\n",
    "            with open(item_path, \"r\") as file_:\n",
    "                b=file_.read()\n",
    "            txt_file_name=b.replace(\" \",\"_\")\n",
    "            out_path=os.path.join(\"output\",txt_file_name+'.txt')\n",
    "            copy(item_path,out_path)\n",
    "        else:\n",
    "            file_name(item_path)\n",
    "\n",
    "file_name(path)\n"
   ]
  },
  {
   "cell_type": "code",
   "execution_count": null,
   "metadata": {},
   "outputs": [],
   "source": []
  }
 ],
 "metadata": {
  "kernelspec": {
   "display_name": "base",
   "language": "python",
   "name": "python3"
  },
  "language_info": {
   "codemirror_mode": {
    "name": "ipython",
    "version": 3
   },
   "file_extension": ".py",
   "mimetype": "text/x-python",
   "name": "python",
   "nbconvert_exporter": "python",
   "pygments_lexer": "ipython3",
   "version": "3.8.8"
  }
 },
 "nbformat": 4,
 "nbformat_minor": 2
}
