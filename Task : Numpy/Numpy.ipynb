{
 "cells": [
  {
   "cell_type": "code",
   "execution_count": 2,
   "metadata": {},
   "outputs": [],
   "source": [
    "import numpy as np"
   ]
  },
  {
   "cell_type": "markdown",
   "metadata": {},
   "source": [
    "Write a NumPy program to compute the multiplication of two given matrices.\n"
   ]
  },
  {
   "cell_type": "code",
   "execution_count": 3,
   "metadata": {},
   "outputs": [
    {
     "data": {
      "text/plain": [
       "array([[ 33,  33,  70],\n",
       "       [ 96,  96, 175],\n",
       "       [159, 159, 280]])"
      ]
     },
     "execution_count": 3,
     "metadata": {},
     "output_type": "execute_result"
    }
   ],
   "source": [
    "mat1=[[1,2,3],[4,5,6],[7,8,9]]\n",
    "mat2=[[10,10,10],[10,10,15],[1,1,10]]\n",
    "multi_matr=np.dot(mat1,mat2)\n",
    "multi_matr"
   ]
  },
  {
   "cell_type": "markdown",
   "metadata": {},
   "source": [
    "Write a NumPy program to compute the outer product of two given vectors.\n"
   ]
  },
  {
   "cell_type": "code",
   "execution_count": 13,
   "metadata": {},
   "outputs": [
    {
     "name": "stdout",
     "output_type": "stream",
     "text": [
      "[[1 2 3]\n",
      " [1 4 3]]\n",
      "[[1 2 3]] \n",
      "\n",
      "[[14]\n",
      " [18]]\n"
     ]
    }
   ],
   "source": [
    "matrix1 = np.array([[1,2, 3], [1,4, 3]])\n",
    "matrix2 = np.array([[1,2,3]])\n",
    "print(matrix1)\n",
    "print(matrix2,'\\n')\n",
    " \n",
    "result = np.inner(matrix1, matrix2)\n",
    "print(result)"
   ]
  },
  {
   "cell_type": "markdown",
   "metadata": {},
   "source": [
    "Write a NumPy program to compute the cross-product of two given vectors.\n"
   ]
  },
  {
   "cell_type": "code",
   "execution_count": 5,
   "metadata": {},
   "outputs": [
    {
     "name": "stdout",
     "output_type": "stream",
     "text": [
      "[[1, 0], [0, 1]]\n",
      "[[1, 2], [3, 4]]\n",
      "Cross product of the said two vectors (p, q):\n",
      "[ 2 -3]\n",
      "Cross product of the said two vectors (q, p):\n",
      "[-2  3]\n"
     ]
    }
   ],
   "source": [
    "p = [[1, 0], [0, 1]]\n",
    "q = [[1, 2], [3, 4]]\n",
    "\n",
    "print(p)\n",
    "print(q)\n",
    "\n",
    "result1 = np.cross(p, q)\n",
    "result2 = np.cross(q, p)\n",
    "\n",
    "print(\"Cross product of the said two vectors (p, q):\")\n",
    "print(result1)\n",
    "print(\"Cross product of the said two vectors (q, p):\")\n",
    "print(result2) "
   ]
  },
  {
   "cell_type": "markdown",
   "metadata": {},
   "source": [
    "Write a NumPy program to compute the determinant of a given square array.\n"
   ]
  },
  {
   "cell_type": "code",
   "execution_count": 6,
   "metadata": {},
   "outputs": [
    {
     "name": "stdout",
     "output_type": "stream",
     "text": [
      "-6.0\n"
     ]
    }
   ],
   "source": [
    "from numpy import linalg\n",
    "matrix=np.array([[1,0,1],[1,2,3],[4,5,6]])\n",
    "print(np.linalg.det(matrix))"
   ]
  },
  {
   "cell_type": "markdown",
   "metadata": {},
   "source": [
    "Write a NumPy program to compute the eigenvalues and eigenvectors of a given square array.\n"
   ]
  },
  {
   "cell_type": "code",
   "execution_count": 8,
   "metadata": {},
   "outputs": [
    {
     "name": "stdout",
     "output_type": "stream",
     "text": [
      "[[1 2]\n",
      " [2 3]]\n",
      "[-0.23606798  4.23606798] \n",
      "\n",
      "[[-0.85065081 -0.52573111]\n",
      " [ 0.52573111 -0.85065081]]\n"
     ]
    }
   ],
   "source": [
    "m = np.array([[1, 2], \n",
    "              [2, 3]]) \n",
    "  \n",
    "print(m) \n",
    "  \n",
    "w, v = np.linalg.eig(m) \n",
    "  \n",
    "print(w,'\\n') \n",
    "print(v)"
   ]
  },
  {
   "cell_type": "markdown",
   "metadata": {},
   "source": [
    "Write a NumPy program to compute the inverse of a given matrix.\n"
   ]
  },
  {
   "cell_type": "code",
   "execution_count": 9,
   "metadata": {},
   "outputs": [
    {
     "name": "stdout",
     "output_type": "stream",
     "text": [
      "Inverse array is \n",
      "[[-1.5   0.5 ]\n",
      " [ 1.25 -0.25]]\n"
     ]
    }
   ],
   "source": [
    "arr = np.array([[1, 2], [5, 6]]) \n",
    "inverse_array = np.linalg.inv(arr) \n",
    "print(\"Inverse array is \") \n",
    "print(inverse_array) "
   ]
  },
  {
   "cell_type": "markdown",
   "metadata": {},
   "source": [
    "Write a NumPy program to compute the sum of the diagonal elements of a given array.\n"
   ]
  },
  {
   "cell_type": "code",
   "execution_count": 10,
   "metadata": {},
   "outputs": [
    {
     "name": "stdout",
     "output_type": "stream",
     "text": [
      "Numpy Matrix is:\n",
      "[[55 25 15]\n",
      " [30 44  2]\n",
      " [11 45 77]]\n",
      "\n",
      "Trace of given 3X3 matrix:\n",
      "176\n"
     ]
    }
   ],
   "source": [
    "n_array = np.array([[55, 25, 15], \n",
    "                    [30, 44, 2], \n",
    "                    [11, 45, 77]]) \n",
    "  \n",
    "print(\"Numpy Matrix is:\") \n",
    "print(n_array) \n",
    "  \n",
    "trace = np.trace(n_array) \n",
    "  \n",
    "print(\"\\nTrace of given 3X3 matrix:\") \n",
    "print(trace)"
   ]
  }
 ],
 "metadata": {
  "kernelspec": {
   "display_name": "base",
   "language": "python",
   "name": "python3"
  },
  "language_info": {
   "codemirror_mode": {
    "name": "ipython",
    "version": 3
   },
   "file_extension": ".py",
   "mimetype": "text/x-python",
   "name": "python",
   "nbconvert_exporter": "python",
   "pygments_lexer": "ipython3",
   "version": "3.8.8"
  }
 },
 "nbformat": 4,
 "nbformat_minor": 2
}
